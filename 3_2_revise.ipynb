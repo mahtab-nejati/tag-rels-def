{
 "cells": [
  {
   "cell_type": "code",
   "execution_count": 1,
   "metadata": {},
   "outputs": [],
   "source": [
    "import pandas as pd\n",
    "import numpy as np\n",
    "\n",
    "pd.set_option('display.max_rows', 1000)"
   ]
  },
  {
   "cell_type": "markdown",
   "metadata": {},
   "source": [
    "# Delete a row"
   ]
  },
  {
   "cell_type": "code",
   "execution_count": 2,
   "metadata": {},
   "outputs": [],
   "source": [
    "def delete_row(lhs,rel,rhs,df):\n",
    "    df = df.loc[~((df.lhs==lhs) & (df.relation==rel) & (df.rhs==rhs))]\n",
    "    df = df.sort_values(['lhs','relation','rhs'],ascending=True).reset_index(drop=True)\n",
    "    df.to_csv('revised.csv',index=False)\n",
    "    return df.copy()"
   ]
  },
  {
   "cell_type": "markdown",
   "metadata": {},
   "source": [
    "# Insert a row"
   ]
  },
  {
   "cell_type": "code",
   "execution_count": 3,
   "metadata": {},
   "outputs": [],
   "source": [
    "def insert_row(lhs,rel,rhs,df):\n",
    "    df = df.append({'lhs':lhs,'relation':rel,'rhs':rhs},ignore_index=True)\n",
    "    df = df.sort_values(['lhs','relation','rhs'],ascending=True).reset_index(drop=True)\n",
    "    df.to_csv('revised.csv',index=False)\n",
    "    return df.copy()"
   ]
  },
  {
   "cell_type": "markdown",
   "metadata": {},
   "source": [
    "# Modify : Insert you modifications between the two commented lines.\n",
    "# NOTICE : Do NOT remove the code for the modifications since the changes will reset. Just keep adding new lines below the previous modifications."
   ]
  },
  {
   "cell_type": "code",
   "execution_count": 6,
   "metadata": {},
   "outputs": [
    {
     "data": {
      "text/html": [
       "<div>\n",
       "<style scoped>\n",
       "    .dataframe tbody tr th:only-of-type {\n",
       "        vertical-align: middle;\n",
       "    }\n",
       "\n",
       "    .dataframe tbody tr th {\n",
       "        vertical-align: top;\n",
       "    }\n",
       "\n",
       "    .dataframe thead th {\n",
       "        text-align: right;\n",
       "    }\n",
       "</style>\n",
       "<table border=\"1\" class=\"dataframe\">\n",
       "  <thead>\n",
       "    <tr style=\"text-align: right;\">\n",
       "      <th></th>\n",
       "      <th>lhs</th>\n",
       "      <th>relation</th>\n",
       "      <th>rhs</th>\n",
       "    </tr>\n",
       "  </thead>\n",
       "  <tbody>\n",
       "    <tr>\n",
       "      <th>196</th>\n",
       "      <td>covid-19</td>\n",
       "      <td>used-in</td>\n",
       "      <td>bioinformatics</td>\n",
       "    </tr>\n",
       "    <tr>\n",
       "      <th>197</th>\n",
       "      <td>covid-19</td>\n",
       "      <td>used-in</td>\n",
       "      <td>scientific</td>\n",
       "    </tr>\n",
       "  </tbody>\n",
       "</table>\n",
       "</div>"
      ],
      "text/plain": [
       "          lhs relation             rhs\n",
       "196  covid-19  used-in  bioinformatics\n",
       "197  covid-19  used-in      scientific"
      ]
     },
     "execution_count": 6,
     "metadata": {},
     "output_type": "execute_result"
    }
   ],
   "source": [
    "rels = pd.read_csv('all_rels.csv')\n",
    "\n",
    "##### MODIFICATIONS BELOW THIS LINE : two lines as example are commented.\n",
    "\n",
    "# rels = delete_row('covid-19','used-in','scientific',rels)\n",
    "# rels = insert_row('covid-19','used-in','bioinformatics',rels)\n",
    "\n",
    "##### MODIFICATIONS ABOVE THIS LINE\n",
    "\n",
    "##### Query to check the modifications\n",
    "rels.loc[rels.lhs == 'covid-19']"
   ]
  },
  {
   "cell_type": "code",
   "execution_count": null,
   "metadata": {},
   "outputs": [],
   "source": []
  }
 ],
 "metadata": {
  "kernelspec": {
   "display_name": "Python 3.7.4 64-bit ('anaconda3': virtualenv)",
   "language": "python",
   "name": "python37464bitanaconda3virtualenv9f0a0eab11fa4f7d9838725065c25f15"
  },
  "language_info": {
   "codemirror_mode": {
    "name": "ipython",
    "version": 3
   },
   "file_extension": ".py",
   "mimetype": "text/x-python",
   "name": "python",
   "nbconvert_exporter": "python",
   "pygments_lexer": "ipython3",
   "version": "3.7.7"
  }
 },
 "nbformat": 4,
 "nbformat_minor": 4
}
