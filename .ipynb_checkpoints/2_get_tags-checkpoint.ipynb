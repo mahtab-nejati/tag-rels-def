{
 "cells": [
  {
   "cell_type": "code",
   "execution_count": 1,
   "metadata": {},
   "outputs": [],
   "source": [
    "import json\n",
    "import pandas as pd"
   ]
  },
  {
   "cell_type": "markdown",
   "metadata": {},
   "source": [
    "# Load topics"
   ]
  },
  {
   "cell_type": "code",
   "execution_count": 2,
   "metadata": {},
   "outputs": [],
   "source": [
    "with open('topics.json','r') as f:\n",
    "    topics = json.load(f)\n",
    "try:\n",
    "    with open('rels.json','r') as f:\n",
    "        rels = json.load(f)\n",
    "except:\n",
    "    rels = {}\n",
    "try:\n",
    "    with open('rels_inverse.json','r') as f:\n",
    "        inv = json.load(f)\n",
    "except:\n",
    "    inv = {}\n"
   ]
  },
  {
   "cell_type": "markdown",
   "metadata": {},
   "source": [
    "# Printing the most related repos"
   ]
  },
  {
   "cell_type": "code",
   "execution_count": 3,
   "metadata": {},
   "outputs": [],
   "source": [
    "def show_repos(repos):\n",
    "    print()\n",
    "    for i in range(len(repos)):\n",
    "        item = repos[i]\n",
    "        l = item['link']\n",
    "        s = item['stargazers']\n",
    "        print(\"{:<6} {:<10} {:<100}\".format(i+1,s,l))\n",
    "        print()\n",
    "    return"
   ]
  },
  {
   "cell_type": "markdown",
   "metadata": {},
   "source": [
    "# Printing all the info about the tag"
   ]
  },
  {
   "cell_type": "code",
   "execution_count": 4,
   "metadata": {},
   "outputs": [],
   "source": [
    "def show_tag_info(t):    \n",
    "    print(('@@'*50+'\\n')*3)\n",
    "    print('\\n\\t'+'##'*20+' '+t+' Info\\n')\n",
    "    with open('./topics/'+t+'/index.md','r') as f:\n",
    "        content = f.read()\n",
    "        print(content)\n",
    "    print('\\n'+'***'*5+' TOP 20 REPOS WITH THE TAG')\n",
    "    show_repos(topics[t]['top_20'])"
   ]
  },
  {
   "cell_type": "markdown",
   "metadata": {},
   "source": [
    "# Getting inverse and keys"
   ]
  },
  {
   "cell_type": "code",
   "execution_count": 5,
   "metadata": {},
   "outputs": [],
   "source": [
    "def get_inv():\n",
    "    try:\n",
    "        with open('rels_inverse.json','r') as f:\n",
    "            inv = json.load(f)\n",
    "    except:\n",
    "        inv = {}\n",
    "    \n",
    "    l_inv = sorted(list(inv.keys()))\n",
    "    \n",
    "    print('\\n'+'$$'*5+' KEYS INTRODUCED SO FAR')\n",
    "    for i in range(len(l_inv)):\n",
    "        print(\"\\t\\t\"+str(i)+':\\t'+l_inv[i])\n",
    "        \n",
    "    return inv.copy(),l_inv.copy()"
   ]
  },
  {
   "cell_type": "markdown",
   "metadata": {},
   "source": [
    "# Get labels from user"
   ]
  },
  {
   "cell_type": "code",
   "execution_count": 6,
   "metadata": {},
   "outputs": [],
   "source": [
    "def get_labels(t,inv,l_inv,relations):\n",
    "    return labels.copy()"
   ]
  },
  {
   "cell_type": "markdown",
   "metadata": {},
   "source": [
    "# Sort dict"
   ]
  },
  {
   "cell_type": "code",
   "execution_count": 7,
   "metadata": {},
   "outputs": [],
   "source": [
    "def sort_dict(dictionary):\n",
    "    new = {}.copy()\n",
    "    keys = sorted(list(dictionary.keys()))\n",
    "    for k in keys:\n",
    "        new[k] = dictionary[k].copy()\n",
    "    return new.copy()"
   ]
  },
  {
   "cell_type": "markdown",
   "metadata": {},
   "source": [
    "# Get info and label"
   ]
  },
  {
   "cell_type": "code",
   "execution_count": 8,
   "metadata": {},
   "outputs": [
    {
     "name": "stdout",
     "output_type": "stream",
     "text": [
      "You are done!\n"
     ]
    }
   ],
   "source": [
    "l_topics = sorted(list(topics.keys()))\n",
    "l_rel = sorted(list(rels.keys()))\n",
    "l_inv = sorted(list(inv.keys()))\n",
    "relations = ['is-a','used-in','used-for','works-with']\n",
    "n = len(l_topics)\n",
    "labeled = 0\n",
    "\n",
    "while labeled != n:\n",
    "    t = l_topics[0]\n",
    "    if t in l_rel:\n",
    "#         print('@@'*20+' '+t+' done',end='\\n\\n')\n",
    "        l_topics.pop(0)\n",
    "        labeled +=1\n",
    "#         print('###'*20+' '+str(labeled)+' labeled out of '+str(n),end='\\n\\n')\n",
    "        continue\n",
    "    \n",
    "    show_tag_info(t,)\n",
    "    \n",
    "    inv,l_inv = get_inv()\n",
    "    \n",
    "#     GETTING THE INPUT\n",
    "    \n",
    "    print('\\n\\tChoose lables for topic !!! '+t+' !!!:')\n",
    "    labels = {}.copy()\n",
    "    for r in relations:\n",
    "        labels[r] = [].copy()\n",
    "        inp = input('\\n\\t\\tlables for Relation !! '+r+' !!:\\t').split(',')\n",
    "        for l in inp:\n",
    "            k = l.strip()\n",
    "            try:\n",
    "                x = l_inv[int(k)]\n",
    "                if x not in labels[r]:\n",
    "                    labels[r].append(x)\n",
    "                    inv[x][r].append(t)\n",
    "                continue\n",
    "            except:\n",
    "                pass\n",
    "            try:\n",
    "                digit = int(k)\n",
    "                continue\n",
    "            except:\n",
    "                pass\n",
    "            if k != '' and k not in labels[r]:\n",
    "                try:\n",
    "                    inv[k][r].append(t)\n",
    "                    labels[r].append(k)\n",
    "                    continue\n",
    "                except:\n",
    "                    pass\n",
    "                inv[k] = {}.copy()\n",
    "                for i in relations:\n",
    "                    inv[k][i] = [].copy()\n",
    "                inv[k][r].append(t)\n",
    "                labels[r].append(k)\n",
    "    \n",
    "    print('\\n\\t\\tThe labels you have chosen for !!! '+t+' !!! are:')\n",
    "    for k,v in labels.items():\n",
    "        print('\\t\\t\\t'+k+': '+str(v))\n",
    "    move_on = input('\\n\\t\\tEnter any text to redo or press enter to move to the next topic:\\n\\t\\t\\t')\n",
    "    if move_on == '':\n",
    "        rels[t] = labels.copy()\n",
    "        rels = sort_dict(rels)\n",
    "        with open('rels.json','w') as f:\n",
    "            json.dump(rels,f)\n",
    "        inv = sort_dict(inv)\n",
    "        with open('rels_inverse.json','w') as f:\n",
    "            json.dump(inv,f)\n",
    "        l_topics.pop(0)\n",
    "        labeled +=1\n",
    "        print('\\n\\t'+'###'*20+' '+t+' DONE!\\n')\n",
    "        print('###'*20+' '+str(labeled)+' labeled out of '+str(n),end='\\n\\n')\n",
    "\n",
    "print('You are done!')"
   ]
  },
  {
   "cell_type": "markdown",
   "metadata": {},
   "source": [
    "# Convert to dataframe"
   ]
  },
  {
   "cell_type": "code",
   "execution_count": 9,
   "metadata": {},
   "outputs": [],
   "source": [
    "to_df = [].copy()\n",
    "\n",
    "for k,rs in rels.items():\n",
    "    for r,ls in rs.items():\n",
    "        for l in ls:\n",
    "            to_df.append((k,r,l))\n",
    "\n",
    "df = pd.DataFrame(to_df,columns=['lhs','relation','rhs'])\n",
    "df.to_csv('all_rels.csv',index=False)"
   ]
  },
  {
   "cell_type": "code",
   "execution_count": 10,
   "metadata": {},
   "outputs": [
    {
     "data": {
      "text/html": [
       "<div>\n",
       "<style scoped>\n",
       "    .dataframe tbody tr th:only-of-type {\n",
       "        vertical-align: middle;\n",
       "    }\n",
       "\n",
       "    .dataframe tbody tr th {\n",
       "        vertical-align: top;\n",
       "    }\n",
       "\n",
       "    .dataframe thead th {\n",
       "        text-align: right;\n",
       "    }\n",
       "</style>\n",
       "<table border=\"1\" class=\"dataframe\">\n",
       "  <thead>\n",
       "    <tr style=\"text-align: right;\">\n",
       "      <th></th>\n",
       "      <th>lhs</th>\n",
       "      <th>relation</th>\n",
       "      <th>rhs</th>\n",
       "    </tr>\n",
       "  </thead>\n",
       "  <tbody>\n",
       "    <tr>\n",
       "      <th>0</th>\n",
       "      <td>3d</td>\n",
       "      <td>is-a</td>\n",
       "      <td>field</td>\n",
       "    </tr>\n",
       "    <tr>\n",
       "      <th>1</th>\n",
       "      <td>3d</td>\n",
       "      <td>used-in</td>\n",
       "      <td>visuals</td>\n",
       "    </tr>\n",
       "    <tr>\n",
       "      <th>2</th>\n",
       "      <td>3d</td>\n",
       "      <td>used-for</td>\n",
       "      <td>3d-printing</td>\n",
       "    </tr>\n",
       "    <tr>\n",
       "      <th>3</th>\n",
       "      <td>3d</td>\n",
       "      <td>used-for</td>\n",
       "      <td>game</td>\n",
       "    </tr>\n",
       "    <tr>\n",
       "      <th>4</th>\n",
       "      <td>3d</td>\n",
       "      <td>used-for</td>\n",
       "      <td>virtual-reality</td>\n",
       "    </tr>\n",
       "    <tr>\n",
       "      <th>...</th>\n",
       "      <td>...</td>\n",
       "      <td>...</td>\n",
       "      <td>...</td>\n",
       "    </tr>\n",
       "    <tr>\n",
       "      <th>883</th>\n",
       "      <td>zeplin</td>\n",
       "      <td>used-in</td>\n",
       "      <td>software-development</td>\n",
       "    </tr>\n",
       "    <tr>\n",
       "      <th>884</th>\n",
       "      <td>zeplin</td>\n",
       "      <td>used-in</td>\n",
       "      <td>ui-ux</td>\n",
       "    </tr>\n",
       "    <tr>\n",
       "      <th>885</th>\n",
       "      <td>zeplin</td>\n",
       "      <td>used-for</td>\n",
       "      <td>collaboration</td>\n",
       "    </tr>\n",
       "    <tr>\n",
       "      <th>886</th>\n",
       "      <td>zeronet</td>\n",
       "      <td>is-a</td>\n",
       "      <td>under-revision</td>\n",
       "    </tr>\n",
       "    <tr>\n",
       "      <th>887</th>\n",
       "      <td>zsh</td>\n",
       "      <td>is-a</td>\n",
       "      <td>cli</td>\n",
       "    </tr>\n",
       "  </tbody>\n",
       "</table>\n",
       "<p>888 rows × 3 columns</p>\n",
       "</div>"
      ],
      "text/plain": [
       "         lhs  relation                   rhs\n",
       "0         3d      is-a                 field\n",
       "1         3d   used-in               visuals\n",
       "2         3d  used-for           3d-printing\n",
       "3         3d  used-for                  game\n",
       "4         3d  used-for       virtual-reality\n",
       "..       ...       ...                   ...\n",
       "883   zeplin   used-in  software-development\n",
       "884   zeplin   used-in                 ui-ux\n",
       "885   zeplin  used-for         collaboration\n",
       "886  zeronet      is-a        under-revision\n",
       "887      zsh      is-a                   cli\n",
       "\n",
       "[888 rows x 3 columns]"
      ]
     },
     "execution_count": 10,
     "metadata": {},
     "output_type": "execute_result"
    }
   ],
   "source": [
    "df"
   ]
  }
 ],
 "metadata": {
  "kernelspec": {
   "display_name": "Python 3.7.4 64-bit ('anaconda3': virtualenv)",
   "language": "python",
   "name": "python37464bitanaconda3virtualenv9f0a0eab11fa4f7d9838725065c25f15"
  },
  "language_info": {
   "codemirror_mode": {
    "name": "ipython",
    "version": 3
   },
   "file_extension": ".py",
   "mimetype": "text/x-python",
   "name": "python",
   "nbconvert_exporter": "python",
   "pygments_lexer": "ipython3",
   "version": "3.7.7"
  }
 },
 "nbformat": 4,
 "nbformat_minor": 4
}
